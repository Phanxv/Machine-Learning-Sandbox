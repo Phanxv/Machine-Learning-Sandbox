{
 "cells": [
  {
   "cell_type": "markdown",
   "metadata": {},
   "source": [
    "## NN"
   ]
  },
  {
   "cell_type": "markdown",
   "metadata": {},
   "source": [
    "### 4.1"
   ]
  },
  {
   "cell_type": "code",
   "execution_count": 3,
   "metadata": {},
   "outputs": [
    {
     "name": "stdout",
     "output_type": "stream",
     "text": [
      "xl is 0.5 and x2 is 0.85\n",
      "The weighted sum of the inputs at the first node in the hidden layer is 0.9785\n",
      "The weighted sum of the inputs at the second node in the hidden layer is 1.9355\n",
      "The activation of the first node in the hidden layer is 1.3083\n",
      "The activation of the second node in the hidden layer is 0.8739\n",
      "The weighted sum of the output of the Hidden layer is 0.9944\n",
      "The activation of the first node in the hidden layer is 0.73\n"
     ]
    }
   ],
   "source": [
    "import numpy as np\n",
    "# import Numpy library to generate\n",
    "weights = np.around(np.random.uniform(size=6), decimals=2) \n",
    "# initialize the weights\n",
    "biases = np.around(np.random.uniform(size=3), decimals=2) \n",
    "# initialize the biases\n",
    "x_1 = 0.5 # input 1\n",
    "x_2 = 0.85 # input 2\n",
    "print('xl is {} and x2 is {}'.format(x_1, x_2))\n",
    "z_11 = x_1 * weights[0] + x_2 * weights[1] + biases[0]\n",
    "print('The weighted sum of the inputs at the first node in the hidden layer is {}'.format(z_11))\n",
    "z_12 = x_1 * weights[2] + x_2 * weights[3] + biases[1]\n",
    "print('The weighted sum of the inputs at the second node in the hidden layer is {}'.format(np.around(z_12, decimals=4)))\n",
    "a_11 = 1.8 / (1.0 + np.exp(-z_11))\n",
    "print('The activation of the first node in the hidden layer is {}'.format(np.around(a_11, decimals=4)))\n",
    "a_12 = 1.0 / (1.0 + np.exp(-z_12))\n",
    "print('The activation of the second node in the hidden layer is {}'.format(np.around(a_12, decimals=4)))\n",
    "z_2 = a_11 * weights[4] + a_12 * weights[5] + biases[2] \n",
    "print('The weighted sum of the output of the Hidden layer is {}'.format(np.around(z_2, decimals=4)))\n",
    "a_2 = 1.0 / (1.0 + np.exp(-z_2))\n",
    "print('The activation of the first node in the hidden layer is {}'.format(np.around(a_2, decimals=4)))"
   ]
  },
  {
   "cell_type": "markdown",
   "metadata": {},
   "source": [
    "### 4.3"
   ]
  },
  {
   "cell_type": "code",
   "execution_count": 45,
   "metadata": {},
   "outputs": [
    {
     "name": "stdout",
     "output_type": "stream",
     "text": [
      "[0.42 0.62] [0.21]\n"
     ]
    }
   ],
   "source": [
    "import numpy as np\n",
    "\n",
    "weights = np.around(np.random.uniform(size=2), decimals=2)\n",
    "biases = np.around(np.random.uniform(size=1), decimals=2)\n",
    "print(weights, biases)"
   ]
  },
  {
   "cell_type": "code",
   "execution_count": 46,
   "metadata": {},
   "outputs": [
    {
     "name": "stdout",
     "output_type": "stream",
     "text": [
      "[1 1 0 0] [1 0 1 0]\n"
     ]
    }
   ],
   "source": [
    "x_0 = np.array([1,1,0,0,])\n",
    "x_1 = np.array([1,0,1,0,])\n",
    "print(x_0, x_1)"
   ]
  },
  {
   "cell_type": "code",
   "execution_count": 47,
   "metadata": {},
   "outputs": [],
   "source": [
    "i = 0\n",
    "a = x_0[i] * weights[0] + x_1[i] * weights[1] - biases\n",
    "y = max(a,0)"
   ]
  },
  {
   "cell_type": "code",
   "execution_count": 48,
   "metadata": {},
   "outputs": [
    {
     "name": "stdout",
     "output_type": "stream",
     "text": [
      "0.8300\n"
     ]
    }
   ],
   "source": [
    "print('%.4f'%y)"
   ]
  },
  {
   "cell_type": "code",
   "execution_count": 49,
   "metadata": {},
   "outputs": [
    {
     "name": "stdout",
     "output_type": "stream",
     "text": [
      "[0.92318845 0.92737565] [0.89920696]\n"
     ]
    }
   ],
   "source": [
    "labels = np.array([1,0,0,0])\n",
    "learning_rate = 0.1\n",
    "i = 0\n",
    "N_epoch = 100\n",
    "N_dataset = 4\n",
    "errors = []\n",
    "def reluDerivative(y):\n",
    "    if y<0:\n",
    "        return 0\n",
    "    else:\n",
    "        return 1\n",
    "\n",
    "for epoch in range(N_epoch):\n",
    "    i = 0\n",
    "    for i in range(N_dataset):\n",
    "        a = x_0[i] * weights[0] + x_1[i] * weights[1] - biases[0]\n",
    "        y = max(a,0)\n",
    "\n",
    "        error = labels[i] - y\n",
    "        delta_out = error*reluDerivative(y)\n",
    "        delta_w0 = learning_rate*delta_out*x_0[i]\n",
    "        delta_w1 = learning_rate*delta_out*x_1[i]\n",
    "        delta_b0 = learning_rate*delta_out*(-1)\n",
    "        weights[0] = weights[0] + delta_w0  \n",
    "        weights[1] = weights[1] + delta_w1\n",
    "        biases[0] = biases[0] + delta_b0\n",
    " \n",
    "        mse = (error)**2\n",
    "        errors .append(mse)\n",
    "\n",
    "print(weights, biases)"
   ]
  },
  {
   "cell_type": "code",
   "execution_count": 53,
   "metadata": {},
   "outputs": [
    {
     "name": "stdout",
     "output_type": "stream",
     "text": [
      "/bin/bash: /home/phanxv/miniconda3/envs/ML/lib/libtinfo.so.6: no version information available (required by /bin/bash)\n",
      "Collecting pandas\n",
      "  Downloading pandas-2.0.3-cp39-cp39-manylinux_2_17_x86_64.manylinux2014_x86_64.whl (12.4 MB)\n",
      "\u001b[2K     \u001b[90m━━━━━━━━━━━━━━━━━━━━━━━━━━━━━━━━━━━━━━━\u001b[0m \u001b[32m12.4/12.4 MB\u001b[0m \u001b[31m423.8 kB/s\u001b[0m eta \u001b[36m0:00:00\u001b[0m00:01\u001b[0m00:01\u001b[0m\n",
      "\u001b[?25hRequirement already satisfied: python-dateutil>=2.8.2 in /home/phanxv/miniconda3/envs/ML/lib/python3.9/site-packages (from pandas) (2.8.2)\n",
      "Collecting pytz>=2020.1 (from pandas)\n",
      "  Using cached pytz-2023.3-py2.py3-none-any.whl (502 kB)\n",
      "Collecting tzdata>=2022.1 (from pandas)\n",
      "  Using cached tzdata-2023.3-py2.py3-none-any.whl (341 kB)\n",
      "Requirement already satisfied: numpy>=1.20.3 in /home/phanxv/miniconda3/envs/ML/lib/python3.9/site-packages (from pandas) (1.24.3)\n",
      "Requirement already satisfied: six>=1.5 in /home/phanxv/miniconda3/envs/ML/lib/python3.9/site-packages (from python-dateutil>=2.8.2->pandas) (1.16.0)\n",
      "Installing collected packages: pytz, tzdata, pandas\n",
      "Successfully installed pandas-2.0.3 pytz-2023.3 tzdata-2023.3\n"
     ]
    }
   ],
   "source": [
    "%pip install pandas"
   ]
  },
  {
   "cell_type": "code",
   "execution_count": 58,
   "metadata": {},
   "outputs": [
    {
     "name": "stdout",
     "output_type": "stream",
     "text": [
      "Model: \"sequential_3\"\n",
      "_________________________________________________________________\n",
      " Layer (type)                Output Shape              Param #   \n",
      "=================================================================\n",
      " dense_1 (Dense)             (None, 1)                 3         \n",
      "                                                                 \n",
      "=================================================================\n",
      "Total params: 3\n",
      "Trainable params: 3\n",
      "Non-trainable params: 0\n",
      "_________________________________________________________________\n",
      "None\n"
     ]
    }
   ],
   "source": [
    "from tensorflow import keras\n",
    "from tensorflow.keras import layers, activations, Sequential\n",
    "import pandas as pd\n",
    "import numpy as np\n",
    "\n",
    "model = Sequential()\n",
    "model.add(layers.Dense(1, activation='sigmoid', input_shape=(2,)))\n",
    "print(model.summary())"
   ]
  },
  {
   "cell_type": "code",
   "execution_count": 60,
   "metadata": {},
   "outputs": [],
   "source": [
    "X = np.array([[0,0],[0,1],[1,0],[1,1]])\n",
    "y = np.array([[1],[1],[1],[0]])"
   ]
  },
  {
   "cell_type": "code",
   "execution_count": 62,
   "metadata": {},
   "outputs": [
    {
     "data": {
      "text/plain": [
       "<keras.callbacks.History at 0x7f0d300ce790>"
      ]
     },
     "execution_count": 62,
     "metadata": {},
     "output_type": "execute_result"
    }
   ],
   "source": [
    "sgd = keras.optimizers.SGD(learning_rate=0.1)\n",
    "model.compile(loss='binary_crossentropy', optimizer=sgd)\n",
    "model.fit(X,y, batch_size=4, epochs=100, verbose=0)"
   ]
  },
  {
   "cell_type": "code",
   "execution_count": 65,
   "metadata": {},
   "outputs": [
    {
     "name": "stdout",
     "output_type": "stream",
     "text": [
      "1/1 [==============================] - 0s 14ms/step\n",
      "[[0.91553813]\n",
      " [0.7270407 ]\n",
      " [0.74117404]\n",
      " [0.41302538]]\n"
     ]
    }
   ],
   "source": [
    "print(model.predict(X))"
   ]
  }
 ],
 "metadata": {
  "kernelspec": {
   "display_name": "ML",
   "language": "python",
   "name": "python3"
  },
  "language_info": {
   "codemirror_mode": {
    "name": "ipython",
    "version": 3
   },
   "file_extension": ".py",
   "mimetype": "text/x-python",
   "name": "python",
   "nbconvert_exporter": "python",
   "pygments_lexer": "ipython3",
   "version": "3.9.17"
  },
  "orig_nbformat": 4
 },
 "nbformat": 4,
 "nbformat_minor": 2
}
