{
 "cells": [
  {
   "cell_type": "code",
   "execution_count": 4,
   "metadata": {},
   "outputs": [
    {
     "name": "stdout",
     "output_type": "stream",
     "text": [
      "0.6666666666666666\n",
      "2\n",
      "8\n",
      "0\n",
      "16\n",
      "19\n",
      "True\n",
      "True\n",
      "True\n",
      "False\n"
     ]
    }
   ],
   "source": [
    "num = 2\n",
    "print(num/3)\n",
    "print(num%3)\n",
    "print(num**3)\n",
    "print(num//3)\n",
    "\n",
    "num <<= 3\n",
    "print(num)\n",
    "num |= 3\n",
    "print(num)\n",
    "\n",
    "x = ['apple', 'banana']\n",
    "y = ['apple', 'banana']\n",
    "z = x\n",
    "print('banana' in x)\n",
    "print(x is z)\n",
    "print(x is not y)\n",
    "print(x != y)"
   ]
  },
  {
   "cell_type": "code",
   "execution_count": 11,
   "metadata": {},
   "outputs": [
    {
     "name": "stdout",
     "output_type": "stream",
     "text": [
      "Date :  2023-06-26\n",
      "Time :  09:44:00.551663\n"
     ]
    }
   ],
   "source": [
    "import datetime\n",
    "\n",
    "x = datetime.datetime.now()\n",
    "print('Date : ', x.date())\n",
    "print('Time : ', x.time())"
   ]
  },
  {
   "cell_type": "code",
   "execution_count": 18,
   "metadata": {},
   "outputs": [
    {
     "name": "stdout",
     "output_type": "stream",
     "text": [
      "dimention of array A is  0\n",
      "shape of array A is  ()\n",
      "dimention of array A is  1\n",
      "shape of array A is  (5,)\n",
      "dimention of array A is  2\n",
      "shape of array A is  (2, 3)\n",
      "dimention of array A is  3\n",
      "shape of array A is  (2, 2, 3)\n"
     ]
    }
   ],
   "source": [
    "import numpy as np\n",
    "\n",
    "a = np.array(42)\n",
    "b = np.array([1,2,3,4,5])\n",
    "c = np.array([[1,2,3],[4,5,6]])\n",
    "d = np.array([[[1,2,3],[4,5,6]],[[1,2,3],[4,5,6]]])\n",
    "\n",
    "print('dimention of array A is ', str(a.ndim))\n",
    "print('shape of array A is ', str(a.shape))\n",
    "print('dimention of array A is ', str(b.ndim))\n",
    "print('shape of array A is ', str(b.shape))\n",
    "print('dimention of array A is ', str(c.ndim))\n",
    "print('shape of array A is ', str(c.shape))\n",
    "print('dimention of array A is ', str(d.ndim))\n",
    "print('shape of array A is ', str(d.shape))"
   ]
  }
 ],
 "metadata": {
  "kernelspec": {
   "display_name": "tf",
   "language": "python",
   "name": "python3"
  },
  "language_info": {
   "codemirror_mode": {
    "name": "ipython",
    "version": 3
   },
   "file_extension": ".py",
   "mimetype": "text/x-python",
   "name": "python",
   "nbconvert_exporter": "python",
   "pygments_lexer": "ipython3",
   "version": "3.9.16"
  },
  "orig_nbformat": 4
 },
 "nbformat": 4,
 "nbformat_minor": 2
}
