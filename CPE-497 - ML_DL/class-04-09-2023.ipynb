{
 "cells": [
  {
   "cell_type": "code",
   "execution_count": 2,
   "metadata": {},
   "outputs": [],
   "source": [
    "import numpy\n",
    "import matplotlib.pyplot as plt\n",
    "from pandas import read_csv\n",
    "import math\n",
    "from keras.models import Sequential\n",
    "from keras.layers import Dense, LSTM\n",
    "from sklearn.preprocessing import MinMaxScaler\n",
    "from sklearn.metrics import mean_squared_error"
   ]
  },
  {
   "cell_type": "code",
   "execution_count": 3,
   "metadata": {},
   "outputs": [],
   "source": [
    "def create_dataset(dataset, look_back=1):\n",
    "    dataX, dataY = [], []\n",
    "    for i in range(len(dataset)-look_back-1):\n",
    "        a = dataset[i:(i+look_back), 0]\n",
    "        dataX.append(a)\n",
    "        dataY.append(dataset[i+look_back, 0])\n",
    "    return numpy.array(dataX), numpy.array(dataY)"
   ]
  },
  {
   "cell_type": "code",
   "execution_count": 5,
   "metadata": {},
   "outputs": [
    {
     "name": "stdout",
     "output_type": "stream",
     "text": [
      "[[112. 118. 132. 129. 121. 135. 148. 148. 136. 119.]]\n"
     ]
    }
   ],
   "source": [
    "numpy.random.seed(7)\n",
    "\n",
    "df = read_csv('dataset/international-airline-passengers.csv',\n",
    "              usecols=[1], engine='python', skipfooter=3)\n",
    "\n",
    "dataset = df.values\n",
    "dataset = dataset.astype('float32')\n",
    "print(dataset[0:10].T)\n"
   ]
  },
  {
   "cell_type": "code",
   "execution_count": 6,
   "metadata": {},
   "outputs": [
    {
     "name": "stdout",
     "output_type": "stream",
     "text": [
      "[[0.01544401 0.02702703 0.05405405 0.04826255 0.03281853 0.05984557\n",
      "  0.08494207 0.08494207 0.06177607 0.02895753]]\n"
     ]
    }
   ],
   "source": [
    "scaler = MinMaxScaler(feature_range=(0,1))\n",
    "dataset = scaler.fit_transform(dataset)\n",
    "print(dataset[0:10].T)"
   ]
  },
  {
   "cell_type": "code",
   "execution_count": 7,
   "metadata": {},
   "outputs": [],
   "source": [
    "train_s = int(len(dataset)*0.7)\n",
    "test_s = len(dataset) - train_s\n",
    "train, test = dataset[0:train_s,:], dataset[train_s:len(dataset),:]\n",
    "\n",
    "trainX, trainY = create_dataset(train, 3)\n",
    "testX, testY = create_dataset(test, 3)\n",
    "\n",
    "trainX = numpy.reshape(trainX, (trainX.shape[0], 1, trainX.shape[1]))\n",
    "testX = numpy.reshape(testX, (testX.shape[0], 1, testX.shape[1]))"
   ]
  },
  {
   "cell_type": "code",
   "execution_count": 10,
   "metadata": {},
   "outputs": [
    {
     "name": "stdout",
     "output_type": "stream",
     "text": [
      "Model: \"sequential_2\"\n",
      "_________________________________________________________________\n",
      " Layer (type)                Output Shape              Param #   \n",
      "=================================================================\n",
      " lstm_1 (LSTM)               (None, 4)                 128       \n",
      "                                                                 \n",
      " dense_1 (Dense)             (None, 1)                 5         \n",
      "                                                                 \n",
      "=================================================================\n",
      "Total params: 133\n",
      "Trainable params: 133\n",
      "Non-trainable params: 0\n",
      "_________________________________________________________________\n"
     ]
    }
   ],
   "source": [
    "model = Sequential()\n",
    "model.add(LSTM(4, input_shape=(1,3)))\n",
    "model.add(Dense(1))\n",
    "model.compile(loss='mean_squared_error', optimizer='adam')\n",
    "model.summary()"
   ]
  },
  {
   "cell_type": "code",
   "execution_count": 11,
   "metadata": {},
   "outputs": [
    {
     "name": "stdout",
     "output_type": "stream",
     "text": [
      "Epoch 1/100\n",
      "35/96 [=========>....................] - ETA: 0s - loss: 0.0903  "
     ]
    },
    {
     "name": "stderr",
     "output_type": "stream",
     "text": [
      "2023-09-24 20:45:29.705424: I tensorflow/stream_executor/cuda/cuda_dnn.cc:384] Loaded cuDNN version 8600\n",
      "2023-09-24 20:45:29.768680: I tensorflow/stream_executor/cuda/cuda_blas.cc:1786] TensorFloat-32 will be used for the matrix multiplication. This will only be logged once.\n"
     ]
    },
    {
     "name": "stdout",
     "output_type": "stream",
     "text": [
      "96/96 [==============================] - 1s 2ms/step - loss: 0.0657\n",
      "Epoch 2/100\n",
      "96/96 [==============================] - 0s 2ms/step - loss: 0.0311\n",
      "Epoch 3/100\n",
      "96/96 [==============================] - 0s 2ms/step - loss: 0.0198\n",
      "Epoch 4/100\n",
      "96/96 [==============================] - 0s 1ms/step - loss: 0.0162\n",
      "Epoch 5/100\n",
      "96/96 [==============================] - 0s 1ms/step - loss: 0.0145\n",
      "Epoch 6/100\n",
      "96/96 [==============================] - 0s 1ms/step - loss: 0.0133\n",
      "Epoch 7/100\n",
      "96/96 [==============================] - 0s 2ms/step - loss: 0.0120\n",
      "Epoch 8/100\n",
      "96/96 [==============================] - 0s 1ms/step - loss: 0.0109\n",
      "Epoch 9/100\n",
      "96/96 [==============================] - 0s 1ms/step - loss: 0.0098\n",
      "Epoch 10/100\n",
      "96/96 [==============================] - 0s 1ms/step - loss: 0.0087\n",
      "Epoch 11/100\n",
      "96/96 [==============================] - 0s 2ms/step - loss: 0.0078\n",
      "Epoch 12/100\n",
      "96/96 [==============================] - 0s 1ms/step - loss: 0.0069\n",
      "Epoch 13/100\n",
      "96/96 [==============================] - 0s 1ms/step - loss: 0.0062\n",
      "Epoch 14/100\n",
      "96/96 [==============================] - 0s 1ms/step - loss: 0.0055\n",
      "Epoch 15/100\n",
      "96/96 [==============================] - 0s 1ms/step - loss: 0.0050\n",
      "Epoch 16/100\n",
      "96/96 [==============================] - 0s 1ms/step - loss: 0.0045\n",
      "Epoch 17/100\n",
      "96/96 [==============================] - 0s 1ms/step - loss: 0.0043\n",
      "Epoch 18/100\n",
      "96/96 [==============================] - 0s 1ms/step - loss: 0.0040\n",
      "Epoch 19/100\n",
      "96/96 [==============================] - 0s 1ms/step - loss: 0.0038\n",
      "Epoch 20/100\n",
      "96/96 [==============================] - 0s 1ms/step - loss: 0.0037\n",
      "Epoch 21/100\n",
      "96/96 [==============================] - 0s 1ms/step - loss: 0.0036\n",
      "Epoch 22/100\n",
      "96/96 [==============================] - 0s 1ms/step - loss: 0.0035\n",
      "Epoch 23/100\n",
      "96/96 [==============================] - 0s 1ms/step - loss: 0.0035\n",
      "Epoch 24/100\n",
      "96/96 [==============================] - 0s 1ms/step - loss: 0.0035\n",
      "Epoch 25/100\n",
      "96/96 [==============================] - 0s 1ms/step - loss: 0.0035\n",
      "Epoch 26/100\n",
      "96/96 [==============================] - 0s 1ms/step - loss: 0.0035\n",
      "Epoch 27/100\n",
      "96/96 [==============================] - 0s 1ms/step - loss: 0.0034\n",
      "Epoch 28/100\n",
      "96/96 [==============================] - 0s 1ms/step - loss: 0.0034\n",
      "Epoch 29/100\n",
      "96/96 [==============================] - 0s 1ms/step - loss: 0.0034\n",
      "Epoch 30/100\n",
      "96/96 [==============================] - 0s 1ms/step - loss: 0.0033\n",
      "Epoch 31/100\n",
      "96/96 [==============================] - 0s 1ms/step - loss: 0.0034\n",
      "Epoch 32/100\n",
      "96/96 [==============================] - 0s 1ms/step - loss: 0.0033\n",
      "Epoch 33/100\n",
      "96/96 [==============================] - 0s 1ms/step - loss: 0.0034\n",
      "Epoch 34/100\n",
      "96/96 [==============================] - 0s 1ms/step - loss: 0.0033\n",
      "Epoch 35/100\n",
      "96/96 [==============================] - 0s 1ms/step - loss: 0.0033\n",
      "Epoch 36/100\n",
      "96/96 [==============================] - 0s 1ms/step - loss: 0.0033\n",
      "Epoch 37/100\n",
      "96/96 [==============================] - 0s 1ms/step - loss: 0.0032\n",
      "Epoch 38/100\n",
      "96/96 [==============================] - 0s 1ms/step - loss: 0.0033\n",
      "Epoch 39/100\n",
      "96/96 [==============================] - 0s 1ms/step - loss: 0.0032\n",
      "Epoch 40/100\n",
      "96/96 [==============================] - 0s 1ms/step - loss: 0.0032\n",
      "Epoch 41/100\n",
      "96/96 [==============================] - 0s 1ms/step - loss: 0.0032\n",
      "Epoch 42/100\n",
      "96/96 [==============================] - 0s 2ms/step - loss: 0.0032\n",
      "Epoch 43/100\n",
      "96/96 [==============================] - 0s 1ms/step - loss: 0.0032\n",
      "Epoch 44/100\n",
      "96/96 [==============================] - 0s 2ms/step - loss: 0.0032\n",
      "Epoch 45/100\n",
      "96/96 [==============================] - 0s 2ms/step - loss: 0.0031\n",
      "Epoch 46/100\n",
      "96/96 [==============================] - 0s 1ms/step - loss: 0.0031\n",
      "Epoch 47/100\n",
      "96/96 [==============================] - 0s 1ms/step - loss: 0.0031\n",
      "Epoch 48/100\n",
      "96/96 [==============================] - 0s 1ms/step - loss: 0.0033\n",
      "Epoch 49/100\n",
      "96/96 [==============================] - 0s 1ms/step - loss: 0.0031\n",
      "Epoch 50/100\n",
      "96/96 [==============================] - 0s 1ms/step - loss: 0.0031\n",
      "Epoch 51/100\n",
      "96/96 [==============================] - 0s 2ms/step - loss: 0.0030\n",
      "Epoch 52/100\n",
      "96/96 [==============================] - 0s 2ms/step - loss: 0.0031\n",
      "Epoch 53/100\n",
      "96/96 [==============================] - 0s 1ms/step - loss: 0.0030\n",
      "Epoch 54/100\n",
      "96/96 [==============================] - 0s 1ms/step - loss: 0.0030\n",
      "Epoch 55/100\n",
      "96/96 [==============================] - 0s 1ms/step - loss: 0.0030\n",
      "Epoch 56/100\n",
      "96/96 [==============================] - 0s 1ms/step - loss: 0.0029\n",
      "Epoch 57/100\n",
      "96/96 [==============================] - 0s 2ms/step - loss: 0.0029\n",
      "Epoch 58/100\n",
      "96/96 [==============================] - 0s 1ms/step - loss: 0.0029\n",
      "Epoch 59/100\n",
      "96/96 [==============================] - 0s 1ms/step - loss: 0.0028\n",
      "Epoch 60/100\n",
      "96/96 [==============================] - 0s 1ms/step - loss: 0.0029\n",
      "Epoch 61/100\n",
      "96/96 [==============================] - 0s 1ms/step - loss: 0.0028\n",
      "Epoch 62/100\n",
      "96/96 [==============================] - 0s 1ms/step - loss: 0.0028\n",
      "Epoch 63/100\n",
      "96/96 [==============================] - 0s 1ms/step - loss: 0.0027\n",
      "Epoch 64/100\n",
      "96/96 [==============================] - 0s 1ms/step - loss: 0.0027\n",
      "Epoch 65/100\n",
      "96/96 [==============================] - 0s 1ms/step - loss: 0.0026\n",
      "Epoch 66/100\n",
      "96/96 [==============================] - 0s 1ms/step - loss: 0.0026\n",
      "Epoch 67/100\n",
      "96/96 [==============================] - 0s 1ms/step - loss: 0.0026\n",
      "Epoch 68/100\n",
      "96/96 [==============================] - 0s 1ms/step - loss: 0.0026\n",
      "Epoch 69/100\n",
      "96/96 [==============================] - 0s 1ms/step - loss: 0.0025\n",
      "Epoch 70/100\n",
      "96/96 [==============================] - 0s 1ms/step - loss: 0.0024\n",
      "Epoch 71/100\n",
      "96/96 [==============================] - 0s 1ms/step - loss: 0.0024\n",
      "Epoch 72/100\n",
      "96/96 [==============================] - 0s 1ms/step - loss: 0.0024\n",
      "Epoch 73/100\n",
      "96/96 [==============================] - 0s 1ms/step - loss: 0.0023\n",
      "Epoch 74/100\n",
      "96/96 [==============================] - 0s 1ms/step - loss: 0.0023\n",
      "Epoch 75/100\n",
      "96/96 [==============================] - 0s 1ms/step - loss: 0.0023\n",
      "Epoch 76/100\n",
      "96/96 [==============================] - 0s 1ms/step - loss: 0.0023\n",
      "Epoch 77/100\n",
      "96/96 [==============================] - 0s 1ms/step - loss: 0.0023\n",
      "Epoch 78/100\n",
      "96/96 [==============================] - 0s 1ms/step - loss: 0.0023\n",
      "Epoch 79/100\n",
      "96/96 [==============================] - 0s 1ms/step - loss: 0.0024\n",
      "Epoch 80/100\n",
      "96/96 [==============================] - 0s 1ms/step - loss: 0.0023\n",
      "Epoch 81/100\n",
      "96/96 [==============================] - 0s 1ms/step - loss: 0.0022\n",
      "Epoch 82/100\n",
      "96/96 [==============================] - 0s 1ms/step - loss: 0.0022\n",
      "Epoch 83/100\n",
      "96/96 [==============================] - 0s 1ms/step - loss: 0.0022\n",
      "Epoch 84/100\n",
      "96/96 [==============================] - 0s 1ms/step - loss: 0.0022\n",
      "Epoch 85/100\n",
      "96/96 [==============================] - 0s 1ms/step - loss: 0.0022\n",
      "Epoch 86/100\n",
      "96/96 [==============================] - 0s 1ms/step - loss: 0.0021\n",
      "Epoch 87/100\n",
      "96/96 [==============================] - 0s 1ms/step - loss: 0.0021\n",
      "Epoch 88/100\n",
      "96/96 [==============================] - 0s 2ms/step - loss: 0.0021\n",
      "Epoch 89/100\n",
      "96/96 [==============================] - 0s 2ms/step - loss: 0.0022\n",
      "Epoch 90/100\n",
      "96/96 [==============================] - 0s 1ms/step - loss: 0.0021\n",
      "Epoch 91/100\n",
      "96/96 [==============================] - 0s 1ms/step - loss: 0.0021\n",
      "Epoch 92/100\n",
      "96/96 [==============================] - 0s 1ms/step - loss: 0.0023\n",
      "Epoch 93/100\n",
      "96/96 [==============================] - 0s 1ms/step - loss: 0.0021\n",
      "Epoch 94/100\n",
      "96/96 [==============================] - 0s 1ms/step - loss: 0.0021\n",
      "Epoch 95/100\n",
      "96/96 [==============================] - 0s 1ms/step - loss: 0.0021\n",
      "Epoch 96/100\n",
      "96/96 [==============================] - 0s 1ms/step - loss: 0.0022\n",
      "Epoch 97/100\n",
      "96/96 [==============================] - 0s 1ms/step - loss: 0.0021\n",
      "Epoch 98/100\n",
      "96/96 [==============================] - 0s 1ms/step - loss: 0.0021\n",
      "Epoch 99/100\n",
      "96/96 [==============================] - 0s 1ms/step - loss: 0.0022\n",
      "Epoch 100/100\n",
      "96/96 [==============================] - 0s 1ms/step - loss: 0.0021\n"
     ]
    },
    {
     "data": {
      "text/plain": [
       "<keras.callbacks.History at 0x7f129f47a3d0>"
      ]
     },
     "execution_count": 11,
     "metadata": {},
     "output_type": "execute_result"
    }
   ],
   "source": [
    "model.fit(trainX, trainY, epochs=100, batch_size=1)"
   ]
  }
 ],
 "metadata": {
  "kernelspec": {
   "display_name": "ML",
   "language": "python",
   "name": "python3"
  },
  "language_info": {
   "codemirror_mode": {
    "name": "ipython",
    "version": 3
   },
   "file_extension": ".py",
   "mimetype": "text/x-python",
   "name": "python",
   "nbconvert_exporter": "python",
   "pygments_lexer": "ipython3",
   "version": "3.9.18"
  },
  "orig_nbformat": 4
 },
 "nbformat": 4,
 "nbformat_minor": 2
}
